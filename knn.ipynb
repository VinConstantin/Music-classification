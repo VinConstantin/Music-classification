{
 "cells": [
  {
   "cell_type": "code",
   "execution_count": 2,
   "metadata": {},
   "outputs": [],
   "source": [
    "import pandas as pd\n",
    "import numpy as np"
   ]
  },
  {
   "cell_type": "markdown",
   "metadata": {},
   "source": [
    "###### Aller cherhcer une clé pour le API de spotify"
   ]
  },
  {
   "cell_type": "code",
   "execution_count": 3,
   "metadata": {},
   "outputs": [
    {
     "data": {
      "text/plain": [
       "'{\"access_token\":\"BQCIWSL4LhP6Hf7SyXYlIPoqVUsTyKVuCVtkahn2OcNxfi-_xg0djmiyoGlHKOlcJTBlkQQy3qW1SKX2yPM\",\"token_type\":\"Bearer\",\"expires_in\":3600,\"scope\":\"\"}'"
      ]
     },
     "execution_count": 3,
     "metadata": {},
     "output_type": "execute_result"
    }
   ],
   "source": [
    "import requests\n",
    "import json\n",
    "client_id = 'c7f5de676ada4290b185e65b841c903d'\n",
    "client_secret = '1ed2aa769a5e46e2a5991eff761d68d0'\n",
    "\n",
    "grant_type = 'client_credentials'\n",
    "\n",
    "body_params = {'grant_type' : grant_type}\n",
    "\n",
    "url='https://accounts.spotify.com/api/token'\n",
    "\n",
    "response=requests.post(url, data=body_params, auth = (client_id, client_secret)) \n",
    "response.text"
   ]
  },
  {
   "cell_type": "code",
   "execution_count": 4,
   "metadata": {},
   "outputs": [],
   "source": [
    "access_token = response.json()['access_token']\n",
    "headers = {'Authorization': 'Bearer '+ access_token}"
   ]
  },
  {
   "cell_type": "markdown",
   "metadata": {},
   "source": [
    "###### Aller cherche la liste de ids de la playlist Hip Hop\n"
   ]
  },
  {
   "cell_type": "code",
   "execution_count": 5,
   "metadata": {},
   "outputs": [],
   "source": [
    "id = \"37i9dQZF1DWT5MrZnPU1zD\""
   ]
  },
  {
   "cell_type": "code",
   "execution_count": 6,
   "metadata": {},
   "outputs": [],
   "source": [
    "r = requests.get(\"https://api.spotify.com/v1/playlists/{}/tracks\".format(id), headers=headers)"
   ]
  },
  {
   "cell_type": "code",
   "execution_count": 7,
   "metadata": {},
   "outputs": [],
   "source": [
    "hip_hop_songs = r.json()"
   ]
  },
  {
   "cell_type": "code",
   "execution_count": 8,
   "metadata": {},
   "outputs": [],
   "source": [
    "hip_hop_ids = []\n",
    "for song in hip_hop_songs['items']:\n",
    "    hip_hop_ids.append(song['track']['id'])"
   ]
  },
  {
   "cell_type": "code",
   "execution_count": 9,
   "metadata": {},
   "outputs": [
    {
     "data": {
      "text/plain": [
       "100"
      ]
     },
     "execution_count": 9,
     "metadata": {},
     "output_type": "execute_result"
    }
   ],
   "source": [
    "len(hip_hop_ids)"
   ]
  },
  {
   "cell_type": "markdown",
   "metadata": {},
   "source": [
    "###### Aller cherche la liste de ids de la playlist Classic"
   ]
  },
  {
   "cell_type": "code",
   "execution_count": 10,
   "metadata": {},
   "outputs": [],
   "source": [
    "id = \"37i9dQZF1DWWEJlAGA9gs0\"\n",
    "r = requests.get(\"https://api.spotify.com/v1/playlists/{}/tracks\".format(id), headers=headers)\n",
    "classical_songs = r.json()"
   ]
  },
  {
   "cell_type": "code",
   "execution_count": 11,
   "metadata": {},
   "outputs": [],
   "source": [
    "classical_ids = []\n",
    "for song in classical_songs['items']:\n",
    "    classical_ids.append(song['track']['id'])"
   ]
  },
  {
   "cell_type": "code",
   "execution_count": 12,
   "metadata": {},
   "outputs": [
    {
     "data": {
      "text/plain": [
       "100"
      ]
     },
     "execution_count": 12,
     "metadata": {},
     "output_type": "execute_result"
    }
   ],
   "source": [
    "len(classical_ids)"
   ]
  },
  {
   "cell_type": "markdown",
   "metadata": {},
   "source": [
    "###### Aller cherche la liste de ids de la playlist Techno"
   ]
  },
  {
   "cell_type": "code",
   "execution_count": 13,
   "metadata": {},
   "outputs": [],
   "source": [
    "id = \"3dD968kYUZpgY38zSOiKgM\"\n",
    "r = requests.get(\"https://api.spotify.com/v1/playlists/{}/tracks\".format(id), headers=headers)\n",
    "techno_songs = r.json()"
   ]
  },
  {
   "cell_type": "code",
   "execution_count": 14,
   "metadata": {},
   "outputs": [],
   "source": [
    "techno_ids = []\n",
    "for song in techno_songs['items']:\n",
    "    techno_ids.append(song['track']['id'])"
   ]
  },
  {
   "cell_type": "code",
   "execution_count": 15,
   "metadata": {
    "scrolled": true
   },
   "outputs": [
    {
     "data": {
      "text/plain": [
       "100"
      ]
     },
     "execution_count": 15,
     "metadata": {},
     "output_type": "execute_result"
    }
   ],
   "source": [
    "len(techno_ids)"
   ]
  },
  {
   "cell_type": "markdown",
   "metadata": {},
   "source": [
    "###### Aller cherche la liste de ids de la playlist Jazz"
   ]
  },
  {
   "cell_type": "code",
   "execution_count": 16,
   "metadata": {},
   "outputs": [],
   "source": [
    "id = \"37i9dQZF1DX0SM0LYsmbMT\"\n",
    "r = requests.get(\"https://api.spotify.com/v1/playlists/{}/tracks\".format(id), headers=headers)\n",
    "jazz_songs = r.json()"
   ]
  },
  {
   "cell_type": "code",
   "execution_count": 17,
   "metadata": {},
   "outputs": [],
   "source": [
    "jazz_ids = []\n",
    "for song in jazz_songs['items']:\n",
    "    jazz_ids.append(song['track']['id'])"
   ]
  },
  {
   "cell_type": "code",
   "execution_count": 18,
   "metadata": {},
   "outputs": [
    {
     "data": {
      "text/plain": [
       "100"
      ]
     },
     "execution_count": 18,
     "metadata": {},
     "output_type": "execute_result"
    }
   ],
   "source": [
    "len(jazz_ids)"
   ]
  },
  {
   "cell_type": "markdown",
   "metadata": {},
   "source": [
    "###### Aller cherche la liste de ids de la playlist Country"
   ]
  },
  {
   "cell_type": "code",
   "execution_count": 19,
   "metadata": {},
   "outputs": [],
   "source": [
    "id = \"4SssSas9VvpPXlMCWXnu91\"\n",
    "r = requests.get(\"https://api.spotify.com/v1/playlists/{}/tracks\".format(id), headers=headers)\n",
    "country_songs = r.json()"
   ]
  },
  {
   "cell_type": "code",
   "execution_count": 20,
   "metadata": {},
   "outputs": [],
   "source": [
    "country_ids = []\n",
    "for song in country_songs['items']:\n",
    "    country_ids.append(song['track']['id'])"
   ]
  },
  {
   "cell_type": "code",
   "execution_count": 21,
   "metadata": {},
   "outputs": [
    {
     "data": {
      "text/plain": [
       "100"
      ]
     },
     "execution_count": 21,
     "metadata": {},
     "output_type": "execute_result"
    }
   ],
   "source": [
    "len(country_ids)"
   ]
  },
  {
   "cell_type": "markdown",
   "metadata": {},
   "source": [
    "##### Aller chercher les caractéristiques de chacune des chansons de la playlist Hip Hop"
   ]
  },
  {
   "cell_type": "code",
   "execution_count": 22,
   "metadata": {},
   "outputs": [],
   "source": [
    "hip_hop_ids_test = \",\".join(hip_hop_ids)"
   ]
  },
  {
   "cell_type": "code",
   "execution_count": 23,
   "metadata": {},
   "outputs": [],
   "source": [
    "r = requests.get(f\"https://api.spotify.com/v1/audio-features/?ids={hip_hop_ids_test}\", headers=headers)"
   ]
  },
  {
   "cell_type": "code",
   "execution_count": 24,
   "metadata": {
    "scrolled": true
   },
   "outputs": [],
   "source": [
    "hip_hop_features = r.json()"
   ]
  },
  {
   "cell_type": "code",
   "execution_count": 25,
   "metadata": {},
   "outputs": [],
   "source": [
    "df_hip_hop = pd.DataFrame(hip_hop_features['audio_features'])"
   ]
  },
  {
   "cell_type": "code",
   "execution_count": 26,
   "metadata": {},
   "outputs": [],
   "source": [
    "df_hip_hop['target'] = \"Hip-Hop\""
   ]
  },
  {
   "cell_type": "markdown",
   "metadata": {},
   "source": [
    "##### Aller chercher les caractéristiques de chacune des chansons de la playlist Classique"
   ]
  },
  {
   "cell_type": "code",
   "execution_count": 27,
   "metadata": {},
   "outputs": [],
   "source": [
    "classical_ids = \",\".join(classical_ids)"
   ]
  },
  {
   "cell_type": "code",
   "execution_count": 28,
   "metadata": {},
   "outputs": [],
   "source": [
    "r = requests.get(f\"https://api.spotify.com/v1/audio-features/?ids={classical_ids}\", headers=headers)\n",
    "classical_features = r.json()"
   ]
  },
  {
   "cell_type": "code",
   "execution_count": 29,
   "metadata": {},
   "outputs": [],
   "source": [
    "df_classical = pd.DataFrame(classical_features['audio_features'])"
   ]
  },
  {
   "cell_type": "code",
   "execution_count": 30,
   "metadata": {},
   "outputs": [],
   "source": [
    "df_classical['target'] = \"Classical\""
   ]
  },
  {
   "cell_type": "markdown",
   "metadata": {},
   "source": [
    "##### Aller chercher les caractéristiques de chacune des chansons de la playlist Techno"
   ]
  },
  {
   "cell_type": "code",
   "execution_count": 31,
   "metadata": {},
   "outputs": [],
   "source": [
    "techno_ids = \",\".join(techno_ids)"
   ]
  },
  {
   "cell_type": "code",
   "execution_count": 32,
   "metadata": {},
   "outputs": [],
   "source": [
    "r = requests.get(f\"https://api.spotify.com/v1/audio-features/?ids={techno_ids}\", headers=headers)\n",
    "techno_features = r.json()"
   ]
  },
  {
   "cell_type": "code",
   "execution_count": 33,
   "metadata": {},
   "outputs": [],
   "source": [
    "df_techno = pd.DataFrame(techno_features['audio_features'])"
   ]
  },
  {
   "cell_type": "code",
   "execution_count": 34,
   "metadata": {},
   "outputs": [],
   "source": [
    "df_techno['target'] = 'Techno'"
   ]
  },
  {
   "cell_type": "markdown",
   "metadata": {},
   "source": [
    "##### Aller chercher les caractéristiques de chacune des chansons de la playlist Jazz"
   ]
  },
  {
   "cell_type": "code",
   "execution_count": 35,
   "metadata": {},
   "outputs": [],
   "source": [
    "jazz_ids_test = \",\".join(jazz_ids)"
   ]
  },
  {
   "cell_type": "code",
   "execution_count": 36,
   "metadata": {},
   "outputs": [],
   "source": [
    "r = requests.get(f\"https://api.spotify.com/v1/audio-features/?ids={jazz_ids_test}\", headers=headers)"
   ]
  },
  {
   "cell_type": "code",
   "execution_count": 37,
   "metadata": {},
   "outputs": [],
   "source": [
    "jazz_features = r.json()"
   ]
  },
  {
   "cell_type": "code",
   "execution_count": 38,
   "metadata": {},
   "outputs": [],
   "source": [
    "df_jazz = pd.DataFrame(jazz_features['audio_features'])"
   ]
  },
  {
   "cell_type": "code",
   "execution_count": 39,
   "metadata": {},
   "outputs": [],
   "source": [
    "df_jazz['target'] = \"Jazz\""
   ]
  },
  {
   "cell_type": "markdown",
   "metadata": {},
   "source": [
    "##### Aller chercher les caractéristiques de chacune des chansons de la playlist Country"
   ]
  },
  {
   "cell_type": "code",
   "execution_count": 40,
   "metadata": {},
   "outputs": [],
   "source": [
    "country_ids_test = \",\".join(country_ids)"
   ]
  },
  {
   "cell_type": "code",
   "execution_count": 41,
   "metadata": {},
   "outputs": [],
   "source": [
    "r = requests.get(f\"https://api.spotify.com/v1/audio-features/?ids={country_ids_test}\", headers=headers)"
   ]
  },
  {
   "cell_type": "code",
   "execution_count": 42,
   "metadata": {},
   "outputs": [],
   "source": [
    "country_features = r.json()"
   ]
  },
  {
   "cell_type": "code",
   "execution_count": 43,
   "metadata": {},
   "outputs": [],
   "source": [
    "df_country = pd.DataFrame(country_features['audio_features'])"
   ]
  },
  {
   "cell_type": "code",
   "execution_count": 44,
   "metadata": {},
   "outputs": [],
   "source": [
    "df_country['target'] = \"Country\""
   ]
  },
  {
   "cell_type": "markdown",
   "metadata": {},
   "source": [
    "<h1>Mettre toutes les listes ensemble </h1>"
   ]
  },
  {
   "cell_type": "code",
   "execution_count": 45,
   "metadata": {},
   "outputs": [],
   "source": [
    "all_df = pd.concat([df_hip_hop,df_classical,df_techno,df_jazz,df_country])"
   ]
  },
  {
   "cell_type": "code",
   "execution_count": 46,
   "metadata": {
    "scrolled": true
   },
   "outputs": [
    {
     "data": {
      "text/html": [
       "<div>\n",
       "<style scoped>\n",
       "    .dataframe tbody tr th:only-of-type {\n",
       "        vertical-align: middle;\n",
       "    }\n",
       "\n",
       "    .dataframe tbody tr th {\n",
       "        vertical-align: top;\n",
       "    }\n",
       "\n",
       "    .dataframe thead th {\n",
       "        text-align: right;\n",
       "    }\n",
       "</style>\n",
       "<table border=\"1\" class=\"dataframe\">\n",
       "  <thead>\n",
       "    <tr style=\"text-align: right;\">\n",
       "      <th></th>\n",
       "      <th>acousticness</th>\n",
       "      <th>analysis_url</th>\n",
       "      <th>danceability</th>\n",
       "      <th>duration_ms</th>\n",
       "      <th>energy</th>\n",
       "      <th>id</th>\n",
       "      <th>instrumentalness</th>\n",
       "      <th>key</th>\n",
       "      <th>liveness</th>\n",
       "      <th>loudness</th>\n",
       "      <th>mode</th>\n",
       "      <th>speechiness</th>\n",
       "      <th>tempo</th>\n",
       "      <th>time_signature</th>\n",
       "      <th>track_href</th>\n",
       "      <th>type</th>\n",
       "      <th>uri</th>\n",
       "      <th>valence</th>\n",
       "      <th>target</th>\n",
       "    </tr>\n",
       "  </thead>\n",
       "  <tbody>\n",
       "    <tr>\n",
       "      <th>0</th>\n",
       "      <td>0.02170</td>\n",
       "      <td>https://api.spotify.com/v1/audio-analysis/7aeC...</td>\n",
       "      <td>0.683</td>\n",
       "      <td>173844</td>\n",
       "      <td>0.664</td>\n",
       "      <td>7aeC8XRoU9s8b0OPUfUbtJ</td>\n",
       "      <td>0.000000</td>\n",
       "      <td>0</td>\n",
       "      <td>0.3470</td>\n",
       "      <td>-6.644</td>\n",
       "      <td>1</td>\n",
       "      <td>0.1650</td>\n",
       "      <td>148.808</td>\n",
       "      <td>4</td>\n",
       "      <td>https://api.spotify.com/v1/tracks/7aeC8XRoU9s8...</td>\n",
       "      <td>audio_features</td>\n",
       "      <td>spotify:track:7aeC8XRoU9s8b0OPUfUbtJ</td>\n",
       "      <td>0.444</td>\n",
       "      <td>Hip-Hop</td>\n",
       "    </tr>\n",
       "    <tr>\n",
       "      <th>1</th>\n",
       "      <td>0.08470</td>\n",
       "      <td>https://api.spotify.com/v1/audio-analysis/6gBF...</td>\n",
       "      <td>0.841</td>\n",
       "      <td>243837</td>\n",
       "      <td>0.728</td>\n",
       "      <td>6gBFPUFcJLzWGx4lenP6h2</td>\n",
       "      <td>0.000000</td>\n",
       "      <td>7</td>\n",
       "      <td>0.1490</td>\n",
       "      <td>-3.370</td>\n",
       "      <td>1</td>\n",
       "      <td>0.0484</td>\n",
       "      <td>130.049</td>\n",
       "      <td>4</td>\n",
       "      <td>https://api.spotify.com/v1/tracks/6gBFPUFcJLzW...</td>\n",
       "      <td>audio_features</td>\n",
       "      <td>spotify:track:6gBFPUFcJLzWGx4lenP6h2</td>\n",
       "      <td>0.430</td>\n",
       "      <td>Hip-Hop</td>\n",
       "    </tr>\n",
       "    <tr>\n",
       "      <th>2</th>\n",
       "      <td>0.30200</td>\n",
       "      <td>https://api.spotify.com/v1/audio-analysis/62vp...</td>\n",
       "      <td>0.696</td>\n",
       "      <td>292987</td>\n",
       "      <td>0.521</td>\n",
       "      <td>62vpWI1CHwFy7tMIcSStl8</td>\n",
       "      <td>0.000000</td>\n",
       "      <td>10</td>\n",
       "      <td>0.0565</td>\n",
       "      <td>-8.465</td>\n",
       "      <td>0</td>\n",
       "      <td>0.3320</td>\n",
       "      <td>100.000</td>\n",
       "      <td>4</td>\n",
       "      <td>https://api.spotify.com/v1/tracks/62vpWI1CHwFy...</td>\n",
       "      <td>audio_features</td>\n",
       "      <td>spotify:track:62vpWI1CHwFy7tMIcSStl8</td>\n",
       "      <td>0.458</td>\n",
       "      <td>Hip-Hop</td>\n",
       "    </tr>\n",
       "    <tr>\n",
       "      <th>3</th>\n",
       "      <td>0.00264</td>\n",
       "      <td>https://api.spotify.com/v1/audio-analysis/2eMw...</td>\n",
       "      <td>0.732</td>\n",
       "      <td>182707</td>\n",
       "      <td>0.750</td>\n",
       "      <td>2eMwDehkIC1j68U6FA3Eiq</td>\n",
       "      <td>0.000000</td>\n",
       "      <td>11</td>\n",
       "      <td>0.1090</td>\n",
       "      <td>-6.366</td>\n",
       "      <td>0</td>\n",
       "      <td>0.2310</td>\n",
       "      <td>155.096</td>\n",
       "      <td>4</td>\n",
       "      <td>https://api.spotify.com/v1/tracks/2eMwDehkIC1j...</td>\n",
       "      <td>audio_features</td>\n",
       "      <td>spotify:track:2eMwDehkIC1j68U6FA3Eiq</td>\n",
       "      <td>0.401</td>\n",
       "      <td>Hip-Hop</td>\n",
       "    </tr>\n",
       "    <tr>\n",
       "      <th>4</th>\n",
       "      <td>0.53300</td>\n",
       "      <td>https://api.spotify.com/v1/audio-analysis/5tsI...</td>\n",
       "      <td>0.815</td>\n",
       "      <td>268566</td>\n",
       "      <td>0.364</td>\n",
       "      <td>5tsI3xxDHDgzHhn30LTQNz</td>\n",
       "      <td>0.000035</td>\n",
       "      <td>2</td>\n",
       "      <td>0.1080</td>\n",
       "      <td>-11.158</td>\n",
       "      <td>1</td>\n",
       "      <td>0.3750</td>\n",
       "      <td>129.937</td>\n",
       "      <td>4</td>\n",
       "      <td>https://api.spotify.com/v1/tracks/5tsI3xxDHDgz...</td>\n",
       "      <td>audio_features</td>\n",
       "      <td>spotify:track:5tsI3xxDHDgzHhn30LTQNz</td>\n",
       "      <td>0.328</td>\n",
       "      <td>Hip-Hop</td>\n",
       "    </tr>\n",
       "  </tbody>\n",
       "</table>\n",
       "</div>"
      ],
      "text/plain": [
       "   acousticness                                       analysis_url  \\\n",
       "0       0.02170  https://api.spotify.com/v1/audio-analysis/7aeC...   \n",
       "1       0.08470  https://api.spotify.com/v1/audio-analysis/6gBF...   \n",
       "2       0.30200  https://api.spotify.com/v1/audio-analysis/62vp...   \n",
       "3       0.00264  https://api.spotify.com/v1/audio-analysis/2eMw...   \n",
       "4       0.53300  https://api.spotify.com/v1/audio-analysis/5tsI...   \n",
       "\n",
       "   danceability  duration_ms  energy                      id  \\\n",
       "0         0.683       173844   0.664  7aeC8XRoU9s8b0OPUfUbtJ   \n",
       "1         0.841       243837   0.728  6gBFPUFcJLzWGx4lenP6h2   \n",
       "2         0.696       292987   0.521  62vpWI1CHwFy7tMIcSStl8   \n",
       "3         0.732       182707   0.750  2eMwDehkIC1j68U6FA3Eiq   \n",
       "4         0.815       268566   0.364  5tsI3xxDHDgzHhn30LTQNz   \n",
       "\n",
       "   instrumentalness  key  liveness  loudness  mode  speechiness    tempo  \\\n",
       "0          0.000000    0    0.3470    -6.644     1       0.1650  148.808   \n",
       "1          0.000000    7    0.1490    -3.370     1       0.0484  130.049   \n",
       "2          0.000000   10    0.0565    -8.465     0       0.3320  100.000   \n",
       "3          0.000000   11    0.1090    -6.366     0       0.2310  155.096   \n",
       "4          0.000035    2    0.1080   -11.158     1       0.3750  129.937   \n",
       "\n",
       "   time_signature                                         track_href  \\\n",
       "0               4  https://api.spotify.com/v1/tracks/7aeC8XRoU9s8...   \n",
       "1               4  https://api.spotify.com/v1/tracks/6gBFPUFcJLzW...   \n",
       "2               4  https://api.spotify.com/v1/tracks/62vpWI1CHwFy...   \n",
       "3               4  https://api.spotify.com/v1/tracks/2eMwDehkIC1j...   \n",
       "4               4  https://api.spotify.com/v1/tracks/5tsI3xxDHDgz...   \n",
       "\n",
       "             type                                   uri  valence   target  \n",
       "0  audio_features  spotify:track:7aeC8XRoU9s8b0OPUfUbtJ    0.444  Hip-Hop  \n",
       "1  audio_features  spotify:track:6gBFPUFcJLzWGx4lenP6h2    0.430  Hip-Hop  \n",
       "2  audio_features  spotify:track:62vpWI1CHwFy7tMIcSStl8    0.458  Hip-Hop  \n",
       "3  audio_features  spotify:track:2eMwDehkIC1j68U6FA3Eiq    0.401  Hip-Hop  \n",
       "4  audio_features  spotify:track:5tsI3xxDHDgzHhn30LTQNz    0.328  Hip-Hop  "
      ]
     },
     "execution_count": 46,
     "metadata": {},
     "output_type": "execute_result"
    }
   ],
   "source": [
    "all_df.head()"
   ]
  },
  {
   "cell_type": "markdown",
   "metadata": {},
   "source": [
    "##### Selectionner les caractéristiques voulu pour l'algorithme\n"
   ]
  },
  {
   "cell_type": "code",
   "execution_count": 47,
   "metadata": {},
   "outputs": [],
   "source": [
    "X = all_df[['acousticness', 'danceability', 'energy', 'instrumentalness', 'key', 'liveness', 'loudness', 'speechiness', 'tempo', 'time_signature', 'valence']]"
   ]
  },
  {
   "cell_type": "code",
   "execution_count": 61,
   "metadata": {},
   "outputs": [],
   "source": [
    "y = all_df.target"
   ]
  },
  {
   "cell_type": "markdown",
   "metadata": {},
   "source": [
    "###### Scaling Features"
   ]
  },
  {
   "cell_type": "code",
   "execution_count": 62,
   "metadata": {},
   "outputs": [
    {
     "name": "stderr",
     "output_type": "stream",
     "text": [
      "/usr/local/lib/python3.6/dist-packages/sklearn/preprocessing/data.py:625: DataConversionWarning: Data with input dtype int64, float64 were all converted to float64 by StandardScaler.\n",
      "  return self.partial_fit(X, y)\n",
      "/usr/local/lib/python3.6/dist-packages/sklearn/base.py:462: DataConversionWarning: Data with input dtype int64, float64 were all converted to float64 by StandardScaler.\n",
      "  return self.fit(X, **fit_params).transform(X)\n"
     ]
    },
    {
     "data": {
      "text/html": [
       "<div>\n",
       "<style scoped>\n",
       "    .dataframe tbody tr th:only-of-type {\n",
       "        vertical-align: middle;\n",
       "    }\n",
       "\n",
       "    .dataframe tbody tr th {\n",
       "        vertical-align: top;\n",
       "    }\n",
       "\n",
       "    .dataframe thead th {\n",
       "        text-align: right;\n",
       "    }\n",
       "</style>\n",
       "<table border=\"1\" class=\"dataframe\">\n",
       "  <thead>\n",
       "    <tr style=\"text-align: right;\">\n",
       "      <th></th>\n",
       "      <th>acousticness</th>\n",
       "      <th>danceability</th>\n",
       "      <th>energy</th>\n",
       "      <th>instrumentalness</th>\n",
       "      <th>key</th>\n",
       "      <th>liveness</th>\n",
       "      <th>loudness</th>\n",
       "      <th>speechiness</th>\n",
       "      <th>tempo</th>\n",
       "      <th>time_signature</th>\n",
       "      <th>valence</th>\n",
       "    </tr>\n",
       "  </thead>\n",
       "  <tbody>\n",
       "    <tr>\n",
       "      <th>0</th>\n",
       "      <td>0.02170</td>\n",
       "      <td>0.683</td>\n",
       "      <td>0.664</td>\n",
       "      <td>0.000000</td>\n",
       "      <td>0</td>\n",
       "      <td>0.3470</td>\n",
       "      <td>-6.644</td>\n",
       "      <td>0.1650</td>\n",
       "      <td>148.808</td>\n",
       "      <td>4</td>\n",
       "      <td>0.444</td>\n",
       "    </tr>\n",
       "    <tr>\n",
       "      <th>1</th>\n",
       "      <td>0.08470</td>\n",
       "      <td>0.841</td>\n",
       "      <td>0.728</td>\n",
       "      <td>0.000000</td>\n",
       "      <td>7</td>\n",
       "      <td>0.1490</td>\n",
       "      <td>-3.370</td>\n",
       "      <td>0.0484</td>\n",
       "      <td>130.049</td>\n",
       "      <td>4</td>\n",
       "      <td>0.430</td>\n",
       "    </tr>\n",
       "    <tr>\n",
       "      <th>2</th>\n",
       "      <td>0.30200</td>\n",
       "      <td>0.696</td>\n",
       "      <td>0.521</td>\n",
       "      <td>0.000000</td>\n",
       "      <td>10</td>\n",
       "      <td>0.0565</td>\n",
       "      <td>-8.465</td>\n",
       "      <td>0.3320</td>\n",
       "      <td>100.000</td>\n",
       "      <td>4</td>\n",
       "      <td>0.458</td>\n",
       "    </tr>\n",
       "    <tr>\n",
       "      <th>3</th>\n",
       "      <td>0.00264</td>\n",
       "      <td>0.732</td>\n",
       "      <td>0.750</td>\n",
       "      <td>0.000000</td>\n",
       "      <td>11</td>\n",
       "      <td>0.1090</td>\n",
       "      <td>-6.366</td>\n",
       "      <td>0.2310</td>\n",
       "      <td>155.096</td>\n",
       "      <td>4</td>\n",
       "      <td>0.401</td>\n",
       "    </tr>\n",
       "    <tr>\n",
       "      <th>4</th>\n",
       "      <td>0.53300</td>\n",
       "      <td>0.815</td>\n",
       "      <td>0.364</td>\n",
       "      <td>0.000035</td>\n",
       "      <td>2</td>\n",
       "      <td>0.1080</td>\n",
       "      <td>-11.158</td>\n",
       "      <td>0.3750</td>\n",
       "      <td>129.937</td>\n",
       "      <td>4</td>\n",
       "      <td>0.328</td>\n",
       "    </tr>\n",
       "  </tbody>\n",
       "</table>\n",
       "</div>"
      ],
      "text/plain": [
       "   acousticness  danceability  energy  instrumentalness  key  liveness  \\\n",
       "0       0.02170         0.683   0.664          0.000000    0    0.3470   \n",
       "1       0.08470         0.841   0.728          0.000000    7    0.1490   \n",
       "2       0.30200         0.696   0.521          0.000000   10    0.0565   \n",
       "3       0.00264         0.732   0.750          0.000000   11    0.1090   \n",
       "4       0.53300         0.815   0.364          0.000035    2    0.1080   \n",
       "\n",
       "   loudness  speechiness    tempo  time_signature  valence  \n",
       "0    -6.644       0.1650  148.808               4    0.444  \n",
       "1    -3.370       0.0484  130.049               4    0.430  \n",
       "2    -8.465       0.3320  100.000               4    0.458  \n",
       "3    -6.366       0.2310  155.096               4    0.401  \n",
       "4   -11.158       0.3750  129.937               4    0.328  "
      ]
     },
     "execution_count": 62,
     "metadata": {},
     "output_type": "execute_result"
    }
   ],
   "source": [
    "from sklearn.preprocessing import StandardScaler\n",
    "import sklearn\n",
    "\n",
    "scaler = StandardScaler()\n",
    "scaled_data = scaler.fit_transform(X)\n",
    "\n",
    "scaled_df = pd.DataFrame(X, columns=X.columns)\n",
    "scaled_df.head()"
   ]
  },
  {
   "cell_type": "code",
   "execution_count": 63,
   "metadata": {},
   "outputs": [],
   "source": [
    "from sklearn.model_selection import train_test_split\n",
    "\n",
    "X_train, X_test, y_train, y_test = train_test_split(scaled_df, y, test_size=0.2, random_state=3)"
   ]
  },
  {
   "cell_type": "code",
   "execution_count": 64,
   "metadata": {},
   "outputs": [],
   "source": [
    "from sklearn.neighbors import KNeighborsClassifier\n"
   ]
  },
  {
   "cell_type": "markdown",
   "metadata": {},
   "source": [
    "##### Essayer plusieurs valeurs de k pour trouver le plus optimal"
   ]
  },
  {
   "cell_type": "code",
   "execution_count": 65,
   "metadata": {},
   "outputs": [],
   "source": [
    "from sklearn.metrics import precision_score, recall_score, accuracy_score, f1_score\n",
    "def find_best_k(X_train, y_train, X_test, y_test, min_k=1, max_k=25):\n",
    "    best_k = 0\n",
    "    best_score = 0.0\n",
    "    for k in range(min_k, max_k+1, 2):\n",
    "        knn = KNeighborsClassifier(n_neighbors=k)\n",
    "        knn.fit(X_train, y_train)\n",
    "        preds = knn.predict(X_test)\n",
    "        f1 = f1_score(y_test, preds, average='micro')\n",
    "        if f1 > best_score:\n",
    "            best_k = k\n",
    "            best_score = f1\n",
    "    \n",
    "    print(\"Meilleur valeur de k: {}\".format(best_k))\n",
    "    print(\"F1-Score: {}\".format(best_score))"
   ]
  },
  {
   "cell_type": "code",
   "execution_count": 66,
   "metadata": {
    "scrolled": true
   },
   "outputs": [
    {
     "name": "stdout",
     "output_type": "stream",
     "text": [
      "Meilleur valeur de k: 21\n",
      "F1-Score: 0.7\n"
     ]
    }
   ],
   "source": [
    "find_best_k(X_train, y_train, X_test, y_test, min_k=1, max_k=25)"
   ]
  },
  {
   "cell_type": "markdown",
   "metadata": {},
   "source": [
    "##### Une valeur de k = 1 a été sélectionné pour le plus optimal"
   ]
  },
  {
   "cell_type": "code",
   "execution_count": 67,
   "metadata": {},
   "outputs": [],
   "source": [
    "knn = KNeighborsClassifier(n_neighbors=9)\n",
    "knn.fit(X_train, y_train)\n",
    "preds = knn.predict(X_test)"
   ]
  },
  {
   "cell_type": "code",
   "execution_count": 68,
   "metadata": {},
   "outputs": [],
   "source": [
    "from sklearn.metrics import classification_report"
   ]
  },
  {
   "cell_type": "markdown",
   "metadata": {},
   "source": [
    "##### Score de classification"
   ]
  },
  {
   "cell_type": "code",
   "execution_count": 69,
   "metadata": {},
   "outputs": [
    {
     "name": "stdout",
     "output_type": "stream",
     "text": [
      "Precision Score: 0.67\n",
      "Recall Score: 0.67\n",
      "Accuracy Score: 0.67\n",
      "F1 Score: 0.67\n"
     ]
    }
   ],
   "source": [
    "def print_metrics(labels, preds):\n",
    "    print(\"Precision Score: {}\".format(precision_score(labels, preds, average='micro')))\n",
    "    print(\"Recall Score: {}\".format(recall_score(labels, preds, average='micro')))\n",
    "    print(\"Accuracy Score: {}\".format(accuracy_score(labels, preds)))\n",
    "    print(\"F1 Score: {}\".format(f1_score(labels, preds, average='micro')))\n",
    "    \n",
    "print_metrics(y_test, preds)"
   ]
  },
  {
   "cell_type": "markdown",
   "metadata": {},
   "source": [
    "##### Aller chercher le id d'un titre"
   ]
  },
  {
   "cell_type": "code",
   "execution_count": 70,
   "metadata": {},
   "outputs": [],
   "source": [
    "titre = \"Demain c'est loin\"\n",
    "url = \"https://api.spotify.com/v1/search?q={}&type=track\".format(titre)\n",
    "r = requests.get(url, headers=headers)\n",
    "reponse = r.json()\n",
    "id = reponse['tracks']['items'][0]['id']"
   ]
  },
  {
   "cell_type": "markdown",
   "metadata": {},
   "source": [
    "##### Aller chercher les caractéristiques avec le id"
   ]
  },
  {
   "cell_type": "code",
   "execution_count": 71,
   "metadata": {},
   "outputs": [],
   "source": [
    "url = \"https://api.spotify.com/v1/audio-features/{}\".format(id)\n",
    "r = requests.get(url,headers=headers)\n",
    "reponse = r.json()"
   ]
  },
  {
   "cell_type": "markdown",
   "metadata": {},
   "source": [
    "##### Faire une prédiction"
   ]
  },
  {
   "cell_type": "code",
   "execution_count": 72,
   "metadata": {},
   "outputs": [
    {
     "data": {
      "text/plain": [
       "'Hip-Hop'"
      ]
     },
     "execution_count": 72,
     "metadata": {},
     "output_type": "execute_result"
    }
   ],
   "source": [
    "y_predict = knn.predict([[reponse['acousticness'],reponse['danceability'],reponse['energy'],\n",
    "                          reponse['instrumentalness'],reponse['key'],reponse['liveness'],\n",
    "                          reponse['loudness'],reponse['speechiness'],reponse['tempo'],\n",
    "                          reponse['time_signature'],reponse['valence']]])\n",
    "\n",
    "genre = y_predict[0]\n",
    "genre"
   ]
  }
 ],
 "metadata": {
  "kernelspec": {
   "display_name": "Python 3",
   "language": "python",
   "name": "python3"
  },
  "language_info": {
   "codemirror_mode": {
    "name": "ipython",
    "version": 3
   },
   "file_extension": ".py",
   "mimetype": "text/x-python",
   "name": "python",
   "nbconvert_exporter": "python",
   "pygments_lexer": "ipython3",
   "version": "3.6.7"
  }
 },
 "nbformat": 4,
 "nbformat_minor": 2
}
